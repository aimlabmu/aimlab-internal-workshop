{
 "cells": [
  {
   "cell_type": "markdown",
   "metadata": {},
   "source": [
    "# Linux-CLI-Git-Python\n",
    "\n",
    "\n",
    "## Summary\n",
    "\n",
    "As we have developed most of the things on Raspberry Pi. It is a good time to let everyone learn more about it and know what is going on now. We would demonstrate the settings process of the elderly robot and break the process down so you know what is happening.\n",
    "\n",
    "\n",
    "## Requirements\n",
    "\n",
    "- Computer with [git](https://git-scm.com/) installed. "
   ]
  },
  {
   "cell_type": "markdown",
   "metadata": {},
   "source": [
    "## Linux & CLI\n",
    "\n",
    "#### activities\n",
    "\n",
    "- Install elderly robot image to blank micro sd card. (We will prepare 2 cards, one ready, and one blank card) Demonstrated on pc by @p_aor.\n",
    "- Open Raspberry Pi and enable `ssh`. \n",
    "- Find ip with `nmap` or at `192.168.1.1`.\n",
    "    - `nmap` for Windows - https://nmap.org/dist/nmap-7.60-win32.zip.\n",
    "    - if `./nmap -sn 192.168.1.*` does not work, use `./nmap -sP -PA21,22,25,3389 192.168.1.1/24`\n",
    "    \n",
    "    \n",
    "- Connect to Raspberry Pi via ssh.\n",
    "- Know shell: `bash`, `.sh`\n",
    "- Know some shorthands: `~`, `/`, `*`, `?`\n",
    "- Try basic commands: `cd`, `ls`, `pwd`, `cat`, `nano`, `grep`, `cp`, `mv`, `rm`, `touch`\n",
    "- Know variables and path.\n",
    "- Know config files (dot files): `*.conf`, `.*`, `.bash_profile`, `.bashrc`\n",
    "\n",
    "- Remember important things for using in the lab:\n",
    "    - Wifi connections settings (/etc/wpa_supplicant/wpa_supplicant.conf)\n",
    "    - Proxy settings (/etc/apt/apt.conf.d/10proxy)\n",
    "    \n",
    "    \n",
    "- Run robot setup scripts."
   ]
  },
  {
   "cell_type": "markdown",
   "metadata": {},
   "source": [
    "## Git\n",
    "\n",
    "#### activities\n",
    "\n",
    "- Set up Git in your environment.\n",
    "- Create some project and initialize git repository.\n",
    "- Learn how easy it is to migrate **no-git** to **git** repository.\n",
    "- Know `.gitignore` and how should we config it.\n",
    "- Do not lose anything in experiment with `stash`, `branch` and `checkout`.\n",
    "- Jump on time and branches with `checkout`.\n",
    "- Reset unwanted with `checkout` and `reset`.\n",
    "- Realize that Git is decentralized version control!\n",
    "\n",
    "#### link to follow\n",
    "- https://tupleblog.github.io/use-git-part1/"
   ]
  },
  {
   "cell_type": "markdown",
   "metadata": {},
   "source": [
    "## Python\n",
    "\n",
    "#### activities\n",
    "\n",
    "- Know Python (built-in, Anaconda, and Miniconda).\n",
    "- Install basic Python packages with `pip` and `conda`.\n",
    "- Know Conda builtin environment and when to use.\n",
    "- Try using Jupyter (Ipython) Notebook.\n"
   ]
  }
 ],
 "metadata": {
  "language_info": {
   "name": "python",
   "pygments_lexer": "ipython3"
  }
 },
 "nbformat": 4,
 "nbformat_minor": 2
}
